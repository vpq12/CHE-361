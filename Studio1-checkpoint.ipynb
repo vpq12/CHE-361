{
 "cells": [
  {
   "cell_type": "markdown",
   "metadata": {},
   "source": [
    "**learning objective:** introduce you to the capabilities of Jupyter Notebook and the Julia programming language. this will be a lot to take in, but please do not be overwhelmed: the goal is to *expose* you to the capabilities of Julia and the Jupyter Notebook. this notebook will serve as a reference for the rest of the class. \n",
    "\n",
    "you will never be tested on how to write Julia code in an exam. even programmers with twenty years of experience need to consult Google and Stack Overflow in the process of writing code. I do not expect you to be an expert programmer after this studio. I'm hoping, by the end of the class, you will have the competency to write simple programs to explore concepts in process dynamics and control.\n",
    "\n",
    "in class next week, we'll numerically solve a differential equation together!"
   ]
  },
  {
   "cell_type": "markdown",
   "metadata": {},
   "source": [
    "# intro to Jupyter Notebook\n",
    "\n",
    "<img src=\"https://upload.wikimedia.org/wikipedia/commons/thumb/3/38/Jupyter_logo.svg/518px-Jupyter_logo.svg.png\" width=200>\n",
    "\n",
    "The Jupyter Notebook is an interactive coding environment that allows you to nicely document your code and tell a story. Think of it as a fancy text editor that runs code snippets.\n",
    "\n",
    "You can run multiple languages in Jupyter. on the top right, you should see `Julia 1.3.x` if you are running the Julia kernel. Select `Kernel` -> `Change kernel` to change the language to the Julia kernel. If you don't see Julia listed, then you need to, in Julia, `using Pkg; Pkg.add(\"IJulia\"); Pkg.build(\"IJulia\")` to tell Jupyter about your Julia installation.\n",
    "\n",
    "## code cells\n",
    "* a Jupyter Notebook is comprised of *cells* that can run snippets of code. for example, in the code cell below, type `println(\"hello world\")` and click `Run` to run this Julia code."
   ]
  },
  {
   "cell_type": "code",
   "execution_count": 1,
   "metadata": {},
   "outputs": [
    {
     "name": "stdout",
     "output_type": "stream",
     "text": [
      "hello world\n"
     ]
    }
   ],
   "source": [
    "println(\"hello world\")"
   ]
  },
  {
   "cell_type": "markdown",
   "metadata": {},
   "source": [
    "* click `+` in the menu above to add a new code cell. In the new cell, run the following Julia code, which creates a variable `x` and assigns it to be the floating point number `3.0`: \n",
    "\n",
    "```julia\n",
    "x = 3.0\n",
    "``` "
   ]
  },
  {
   "cell_type": "code",
   "execution_count": 2,
   "metadata": {},
   "outputs": [
    {
     "data": {
      "text/plain": [
       "3.0"
      ]
     },
     "execution_count": 2,
     "metadata": {},
     "output_type": "execute_result"
    }
   ],
   "source": [
    "x = 3.0"
   ]
  },
  {
   "cell_type": "markdown",
   "metadata": {},
   "source": [
    "* all variables created in the previous cells that were run are available to you in the next cell that you run. e.g., the previously defined variable `x` is stored in memory and at your disposal. to see this, create a new cell and compute $e^{x^2}$ via the following Julia code:\n",
    "\n",
    "```julia\n",
    "exp(x^2)\n",
    "```\n",
    "\n",
    "for this to have successfully run, Julia had to have the `x` variable stored in memory from the previous cell."
   ]
  },
  {
   "cell_type": "code",
   "execution_count": 3,
   "metadata": {},
   "outputs": [
    {
     "data": {
      "text/plain": [
       "8103.083927575384"
      ]
     },
     "execution_count": 3,
     "metadata": {},
     "output_type": "execute_result"
    }
   ],
   "source": [
    "exp(x^2)"
   ]
  },
  {
   "cell_type": "markdown",
   "metadata": {},
   "source": [
    "* Julia supports Unicode so that your code can nicely follow mathematical notation. For example, to obtain the Greek $\\tau$, type `\\tau` then hit tab. \n",
    "\n",
    "**<font color='red'>exercise:</font>** assign the variable `β` the floating point number `3.0`. Type `\\beta` and hit tab to create a `β`.\n",
    "\n",
    "```julia\n",
    "β = 3.0\n",
    "```"
   ]
  },
  {
   "cell_type": "code",
   "execution_count": 5,
   "metadata": {},
   "outputs": [
    {
     "data": {
      "text/plain": [
       "3.0"
      ]
     },
     "execution_count": 5,
     "metadata": {},
     "output_type": "execute_result"
    }
   ],
   "source": [
    "β = 3.0"
   ]
  },
  {
   "cell_type": "markdown",
   "metadata": {},
   "source": [
    "## markdown cells\n",
    "\n",
    "to document your code and tell a story, you can use markdown cells.\n",
    "\n",
    "Markdown is a language to format text. see [here](https://github.com/adam-p/markdown-here/wiki/Markdown-Cheatsheet) for its capabilities. moreover, LaTeX is supported in markdown cells to display mathematical equations. double click on this cell to see how I formatted it.\n",
    "\n",
    "LaTeX: $G(s) = \\dfrac{3}{4s^2 + 1}$.\n",
    "\n",
    "**bold** and *italics* text\n",
    "\n",
    "lists of stuff\n",
    "* apples\n",
    "* oranges\n",
    "* bananas\n",
    "\n",
    "lists of ordered stuff\n",
    "1. Beavers\n",
    "2. Ducks\n",
    "\n",
    "> All models are wrong, some are useful. -George Box\n",
    "\n",
    "### a subsubheading\n",
    "\n",
    "some Julia code:\n",
    "```julia\n",
    "x = 3.0\n",
    "y = sin(x)\n",
    "```\n",
    "\n",
    "and inline code, `x = 3.0`\n",
    "\n",
    "**<font color='red'>exercise:</font>** click in the cell below, then, in the menu above, change `Code` to `Markdown` to change the cell into a `Markdown` cell. type some fancy markdown to explore how to make your own markdown cell."
   ]
  },
  {
   "cell_type": "markdown",
   "metadata": {},
   "source": [
    "###hello\n",
    "===\n",
    "----\n",
    "~~bye~~"
   ]
  },
  {
   "cell_type": "markdown",
   "metadata": {},
   "source": [
    "# intro to Julia\n",
    "\n",
    "<img src=\"https://raw.githubusercontent.com/JuliaLang/julia-logo-graphics/master/images/julia-logo-color.png\" width=220>\n",
    "\n",
    "always put what packages you are `using` at the top of your notebook.\n",
    "\n",
    "`using PyPlot` imports the functions in the `matplotlib` library for making plots. click [here](https://matplotlib.org/gallery/index.html) to see many examples of what kind of plots you can make in `matplotlib`. the syntax for Julia's interface to `matplotlib` follows the docs closely, except (i) we don't need to preface the commands with `plt.` and (ii) strings should be defined with quotations in Julia, e.g. `color=\"green\"` not `color='green'`."
   ]
  },
  {
   "cell_type": "code",
   "execution_count": 6,
   "metadata": {},
   "outputs": [],
   "source": [
    "using PyPlot # load in functions from PyPlot"
   ]
  },
  {
   "cell_type": "markdown",
   "metadata": {},
   "source": [
    "### hello world"
   ]
  },
  {
   "cell_type": "code",
   "execution_count": 41,
   "metadata": {},
   "outputs": [
    {
     "name": "stdout",
     "output_type": "stream",
     "text": [
      "hello world\n"
     ]
    }
   ],
   "source": [
    "println(\"hello world\") # ln stands for \"line\" b/c we want a new line after the String we print"
   ]
  },
  {
   "cell_type": "markdown",
   "metadata": {},
   "source": [
    "### assignment\n",
    "create a variable `x` and assign it to have the floating point number `4.0`."
   ]
  },
  {
   "cell_type": "code",
   "execution_count": 42,
   "metadata": {},
   "outputs": [
    {
     "data": {
      "text/plain": [
       "4.0"
      ]
     },
     "execution_count": 42,
     "metadata": {},
     "output_type": "execute_result"
    }
   ],
   "source": [
    "x = 4.0"
   ]
  },
  {
   "cell_type": "markdown",
   "metadata": {},
   "source": [
    "### common mathematical operations"
   ]
  },
  {
   "cell_type": "code",
   "execution_count": 43,
   "metadata": {},
   "outputs": [
    {
     "data": {
      "text/plain": [
       "-0.7568024953079282"
      ]
     },
     "execution_count": 43,
     "metadata": {},
     "output_type": "execute_result"
    }
   ],
   "source": [
    "sin(x)"
   ]
  },
  {
   "cell_type": "code",
   "execution_count": 44,
   "metadata": {},
   "outputs": [
    {
     "data": {
      "text/plain": [
       "54.598150033144236"
      ]
     },
     "execution_count": 44,
     "metadata": {},
     "output_type": "execute_result"
    }
   ],
   "source": [
    "exp(x)"
   ]
  },
  {
   "cell_type": "code",
   "execution_count": 45,
   "metadata": {},
   "outputs": [
    {
     "data": {
      "text/plain": [
       "16.0"
      ]
     },
     "execution_count": 45,
     "metadata": {},
     "output_type": "execute_result"
    }
   ],
   "source": [
    "x ^ 2"
   ]
  },
  {
   "cell_type": "code",
   "execution_count": 46,
   "metadata": {},
   "outputs": [
    {
     "data": {
      "text/plain": [
       "22.0"
      ]
     },
     "execution_count": 46,
     "metadata": {},
     "output_type": "execute_result"
    }
   ],
   "source": [
    "x + 4 * x + x / 2"
   ]
  },
  {
   "cell_type": "markdown",
   "metadata": {},
   "source": [
    "### how do I do $x$ in Julia?\n",
    "\n",
    "check out the documentation [here](https://docs.julialang.org/en/v1/)!"
   ]
  },
  {
   "cell_type": "markdown",
   "metadata": {},
   "source": [
    "### for loops"
   ]
  },
  {
   "cell_type": "code",
   "execution_count": 47,
   "metadata": {},
   "outputs": [
    {
     "name": "stdout",
     "output_type": "stream",
     "text": [
      "2 * j = 2\n",
      "2 * j = 4\n",
      "2 * j = 6\n",
      "2 * j = 8\n",
      "2 * j = 10\n",
      "2 * j = 12\n",
      "2 * j = 14\n",
      "2 * j = 16\n",
      "2 * j = 18\n",
      "2 * j = 20\n"
     ]
    }
   ],
   "source": [
    "for j = 1:10\n",
    "    println(\"2 * j = \", 2 * j)\n",
    "end"
   ]
  },
  {
   "cell_type": "markdown",
   "metadata": {},
   "source": [
    "### functions\n",
    "\n",
    "they take in an input value as an argument, and return an output.\n",
    "\n",
    "one-liners. $f(x)=x^2$"
   ]
  },
  {
   "cell_type": "code",
   "execution_count": 48,
   "metadata": {},
   "outputs": [
    {
     "data": {
      "text/plain": [
       "4.0"
      ]
     },
     "execution_count": 48,
     "metadata": {},
     "output_type": "execute_result"
    }
   ],
   "source": [
    "f(x) = x ^ 2\n",
    "\n",
    "θ = 2.0\n",
    "f(θ)"
   ]
  },
  {
   "cell_type": "markdown",
   "metadata": {},
   "source": [
    "multiple-liners. $g(x)=x^2+1$"
   ]
  },
  {
   "cell_type": "code",
   "execution_count": 50,
   "metadata": {},
   "outputs": [
    {
     "data": {
      "text/plain": [
       "5.0"
      ]
     },
     "execution_count": 50,
     "metadata": {},
     "output_type": "execute_result"
    }
   ],
   "source": [
    "function g(x)\n",
    "    y = x ^ 2\n",
    "    return y + 1\n",
    "end\n",
    "\n",
    "g(2.0) # I admit we could have done a one-liner g(x) = x ^ + 1"
   ]
  },
  {
   "cell_type": "markdown",
   "metadata": {},
   "source": [
    "multiple arguments"
   ]
  },
  {
   "cell_type": "code",
   "execution_count": 51,
   "metadata": {},
   "outputs": [
    {
     "data": {
      "text/plain": [
       "5.0"
      ]
     },
     "execution_count": 51,
     "metadata": {},
     "output_type": "execute_result"
    }
   ],
   "source": [
    "f(x, y) = x + 2 * y\n",
    "f(1.0, 2.0)"
   ]
  },
  {
   "cell_type": "markdown",
   "metadata": {},
   "source": [
    "### arrays\n",
    "i.e. lists of numbers (or whatever type, e.g. `String`'s)\n",
    "\n",
    "#### constructing arrays: (1) manual construction"
   ]
  },
  {
   "cell_type": "code",
   "execution_count": 52,
   "metadata": {},
   "outputs": [
    {
     "data": {
      "text/plain": [
       "4-element Array{Float64,1}:\n",
       " 1.0\n",
       " 2.0\n",
       " 3.0\n",
       " 4.0"
      ]
     },
     "execution_count": 52,
     "metadata": {},
     "output_type": "execute_result"
    }
   ],
   "source": [
    "x = [1.0, 2.0, 3.0, 4.0] # way 1, manual construction"
   ]
  },
  {
   "cell_type": "markdown",
   "metadata": {},
   "source": [
    "#### constructing arrays: (2) pre-allocate an array of zeros, then loop through the entries and overwrite the zeros"
   ]
  },
  {
   "cell_type": "code",
   "execution_count": 53,
   "metadata": {},
   "outputs": [
    {
     "data": {
      "text/plain": [
       "4-element Array{Float64,1}:\n",
       " 0.0\n",
       " 0.0\n",
       " 0.0\n",
       " 0.0"
      ]
     },
     "execution_count": 53,
     "metadata": {},
     "output_type": "execute_result"
    }
   ],
   "source": [
    "x = zeros(4) # an array of zeros with four elements"
   ]
  },
  {
   "cell_type": "code",
   "execution_count": 54,
   "metadata": {},
   "outputs": [
    {
     "data": {
      "text/plain": [
       "4-element Array{Float64,1}:\n",
       " 1.0\n",
       " 2.0\n",
       " 3.0\n",
       " 4.0"
      ]
     },
     "execution_count": 54,
     "metadata": {},
     "output_type": "execute_result"
    }
   ],
   "source": [
    "for i = 1:4\n",
    "    x[i] = i\n",
    "end\n",
    "x # I put this here so you can see it; Jupyter Notebook cells only print the last line"
   ]
  },
  {
   "cell_type": "markdown",
   "metadata": {},
   "source": [
    "#### constructing arrays: (3) list comprehension\n",
    "think about what you want element `i` to be..."
   ]
  },
  {
   "cell_type": "code",
   "execution_count": 55,
   "metadata": {},
   "outputs": [
    {
     "data": {
      "text/plain": [
       "4-element Array{Int64,1}:\n",
       " 1\n",
       " 2\n",
       " 3\n",
       " 4"
      ]
     },
     "execution_count": 55,
     "metadata": {},
     "output_type": "execute_result"
    }
   ],
   "source": [
    "x = [i for i = 1:4]"
   ]
  },
  {
   "cell_type": "markdown",
   "metadata": {},
   "source": [
    "#### constructing arrays: (4) start with an empty array then append (`push`) elements to it."
   ]
  },
  {
   "cell_type": "code",
   "execution_count": 60,
   "metadata": {},
   "outputs": [
    {
     "data": {
      "text/plain": [
       "4-element Array{Any,1}:\n",
       " 1\n",
       " 2\n",
       " 3\n",
       " 4"
      ]
     },
     "execution_count": 60,
     "metadata": {},
     "output_type": "execute_result"
    }
   ],
   "source": [
    "x = []\n",
    "for i = 1:4\n",
    "    push!(x, i) # the ! is the function saying \"hey, we're going to modify what you feed me.\"\n",
    "end\n",
    "x"
   ]
  },
  {
   "cell_type": "markdown",
   "metadata": {},
   "source": [
    "### ranges of numbers\n",
    "e.g. 6 numbers evenly spaced between 0 and 1. we'll need this for plotting."
   ]
  },
  {
   "cell_type": "code",
   "execution_count": 61,
   "metadata": {},
   "outputs": [
    {
     "data": {
      "text/plain": [
       "6-element Array{Float64,1}:\n",
       " 0.0\n",
       " 0.2\n",
       " 0.4\n",
       " 0.6\n",
       " 0.8\n",
       " 1.0"
      ]
     },
     "execution_count": 61,
     "metadata": {},
     "output_type": "execute_result"
    }
   ],
   "source": [
    "x = collect(range(0.0, 1.0, length=6)) # x = collect(0:0.2:1) works too"
   ]
  },
  {
   "cell_type": "markdown",
   "metadata": {},
   "source": [
    "### iterate through an array\n",
    "\n",
    "(1) using the index of the elements"
   ]
  },
  {
   "cell_type": "code",
   "execution_count": 64,
   "metadata": {},
   "outputs": [
    {
     "name": "stdout",
     "output_type": "stream",
     "text": [
      "x[1] = 0.0\n",
      "x[2] = 0.2\n",
      "x[3] = 0.4\n",
      "x[4] = 0.6\n",
      "x[5] = 0.8\n",
      "x[6] = 1.0\n"
     ]
    }
   ],
   "source": [
    "n = length(x)\n",
    "for i = 1:n\n",
    "    println(\"x[$i] = \", x[i])\n",
    "end"
   ]
  },
  {
   "cell_type": "markdown",
   "metadata": {},
   "source": [
    "(2) iterating directly through the elements"
   ]
  },
  {
   "cell_type": "code",
   "execution_count": 66,
   "metadata": {},
   "outputs": [
    {
     "name": "stdout",
     "output_type": "stream",
     "text": [
      "x_i = 0.0\n",
      "x_i = 0.2\n",
      "x_i = 0.4\n",
      "x_i = 0.6\n",
      "x_i = 0.8\n",
      "x_i = 1.0\n"
     ]
    }
   ],
   "source": [
    "for x_i in x\n",
    "    println(\"x_i = \", x_i)\n",
    "end"
   ]
  },
  {
   "cell_type": "markdown",
   "metadata": {},
   "source": [
    "(3) via `enumerate`, iterating through both the index *and* the element"
   ]
  },
  {
   "cell_type": "code",
   "execution_count": 65,
   "metadata": {},
   "outputs": [
    {
     "name": "stdout",
     "output_type": "stream",
     "text": [
      "element 1 is 0.0\n",
      "element 2 is 0.2\n",
      "element 3 is 0.4\n",
      "element 4 is 0.6\n",
      "element 5 is 0.8\n",
      "element 6 is 1.0\n"
     ]
    }
   ],
   "source": [
    "for (i, x_i) in enumerate(x) # i is index of an element, x_i is element i. get both at once with `enumerate`\n",
    "    print(\"element \", i)\n",
    "    println(\" is \", x_i)\n",
    "end"
   ]
  },
  {
   "cell_type": "markdown",
   "metadata": {},
   "source": [
    "### querying arrays\n",
    "\n",
    "what is the value of element `2`?"
   ]
  },
  {
   "cell_type": "code",
   "execution_count": 67,
   "metadata": {},
   "outputs": [
    {
     "data": {
      "text/plain": [
       "0.2"
      ]
     },
     "execution_count": 67,
     "metadata": {},
     "output_type": "execute_result"
    }
   ],
   "source": [
    "x[2]"
   ]
  },
  {
   "cell_type": "markdown",
   "metadata": {},
   "source": [
    "the last element?"
   ]
  },
  {
   "cell_type": "code",
   "execution_count": 68,
   "metadata": {},
   "outputs": [
    {
     "data": {
      "text/plain": [
       "1.0"
      ]
     },
     "execution_count": 68,
     "metadata": {},
     "output_type": "execute_result"
    }
   ],
   "source": [
    "x[end]"
   ]
  },
  {
   "cell_type": "markdown",
   "metadata": {},
   "source": [
    "grab the first three elements"
   ]
  },
  {
   "cell_type": "code",
   "execution_count": 69,
   "metadata": {},
   "outputs": [
    {
     "data": {
      "text/plain": [
       "3-element Array{Float64,1}:\n",
       " 0.0\n",
       " 0.2\n",
       " 0.4"
      ]
     },
     "execution_count": 69,
     "metadata": {},
     "output_type": "execute_result"
    }
   ],
   "source": [
    "x[1:3]"
   ]
  },
  {
   "cell_type": "markdown",
   "metadata": {},
   "source": [
    "the last three elements"
   ]
  },
  {
   "cell_type": "code",
   "execution_count": 70,
   "metadata": {},
   "outputs": [
    {
     "data": {
      "text/plain": [
       "3-element Array{Float64,1}:\n",
       " 0.6\n",
       " 0.8\n",
       " 1.0"
      ]
     },
     "execution_count": 70,
     "metadata": {},
     "output_type": "execute_result"
    }
   ],
   "source": [
    "x[end-2:end]"
   ]
  },
  {
   "cell_type": "markdown",
   "metadata": {},
   "source": [
    "### applying functions to an array, element-wise\n",
    "\n",
    "use a `.` after the function name to indicate \"element-wise\""
   ]
  },
  {
   "cell_type": "code",
   "execution_count": 71,
   "metadata": {},
   "outputs": [
    {
     "data": {
      "text/plain": [
       "6-element Array{Float64,1}:\n",
       " 1.0               \n",
       " 1.2214027581601699\n",
       " 1.4918246976412703\n",
       " 1.8221188003905089\n",
       " 2.225540928492468 \n",
       " 2.718281828459045 "
      ]
     },
     "execution_count": 71,
     "metadata": {},
     "output_type": "execute_result"
    }
   ],
   "source": [
    "exp.(x)"
   ]
  },
  {
   "cell_type": "code",
   "execution_count": 72,
   "metadata": {},
   "outputs": [
    {
     "data": {
      "text/plain": [
       "6-element Array{Float64,1}:\n",
       " 4.0\n",
       " 4.2\n",
       " 4.4\n",
       " 4.6\n",
       " 4.8\n",
       " 5.0"
      ]
     },
     "execution_count": 72,
     "metadata": {},
     "output_type": "execute_result"
    }
   ],
   "source": [
    "x .+ 4.0"
   ]
  },
  {
   "cell_type": "code",
   "execution_count": 73,
   "metadata": {},
   "outputs": [
    {
     "data": {
      "text/plain": [
       "6-element Array{Float64,1}:\n",
       " 1.0                 \n",
       " 0.5488116360940264  \n",
       " 0.301194211912202   \n",
       " 0.16529888822158656 \n",
       " 0.09071795328941247 \n",
       " 0.049787068367863944"
      ]
     },
     "execution_count": 73,
     "metadata": {},
     "output_type": "execute_result"
    }
   ],
   "source": [
    "exp.(-3*x)"
   ]
  },
  {
   "cell_type": "markdown",
   "metadata": {},
   "source": [
    "## <font color='red'>exercises</font>\n",
    "\n",
    "Q1: construct an array with the odd numbers $1, 3, 5, 7, ..., 97, 99$ (not manually!) in *three* different ways."
   ]
  },
  {
   "cell_type": "code",
   "execution_count": 7,
   "metadata": {},
   "outputs": [
    {
     "data": {
      "text/plain": [
       "99-element Array{Int64,1}:\n",
       "  1\n",
       "  2\n",
       "  3\n",
       "  4\n",
       "  5\n",
       "  6\n",
       "  7\n",
       "  8\n",
       "  9\n",
       " 10\n",
       " 11\n",
       " 12\n",
       " 13\n",
       "  ⋮\n",
       " 88\n",
       " 89\n",
       " 90\n",
       " 91\n",
       " 92\n",
       " 93\n",
       " 94\n",
       " 95\n",
       " 96\n",
       " 97\n",
       " 98\n",
       " 99"
      ]
     },
     "execution_count": 7,
     "metadata": {},
     "output_type": "execute_result"
    }
   ],
   "source": [
    "x=[i for i=1:99]"
   ]
  },
  {
   "cell_type": "code",
   "execution_count": 11,
   "metadata": {},
   "outputs": [
    {
     "data": {
      "text/plain": [
       "99-element Array{Int64,1}:\n",
       "  1\n",
       "  2\n",
       "  3\n",
       "  4\n",
       "  5\n",
       "  6\n",
       "  7\n",
       "  8\n",
       "  9\n",
       " 10\n",
       " 11\n",
       " 12\n",
       " 13\n",
       "  ⋮\n",
       " 88\n",
       " 89\n",
       " 90\n",
       " 91\n",
       " 92\n",
       " 93\n",
       " 94\n",
       " 95\n",
       " 96\n",
       " 97\n",
       " 98\n",
       " 99"
      ]
     },
     "execution_count": 11,
     "metadata": {},
     "output_type": "execute_result"
    }
   ],
   "source": [
    "for i= 1:4\n",
    "    x[i] = i\n",
    "end\n",
    "x"
   ]
  },
  {
   "cell_type": "markdown",
   "metadata": {},
   "source": [
    "Q2: write a function that returns $K (1-e^{-t/\\tau})$ and takes in three arguments: `t`, `K`, and `τ`. use your function to evaluate the value at $t=1.0$, $\\tau=2.0$ and $K=3.0$"
   ]
  },
  {
   "cell_type": "code",
   "execution_count": 12,
   "metadata": {},
   "outputs": [
    {
     "data": {
      "text/plain": [
       "3.0"
      ]
     },
     "execution_count": 12,
     "metadata": {},
     "output_type": "execute_result"
    }
   ],
   "source": [
    "f(t,k,τ)= k*(1- e^(-t/τ))\n",
    "t = 1.0\n",
    "τ = 2.0\n",
    "k = 3.0"
   ]
  },
  {
   "cell_type": "markdown",
   "metadata": {},
   "source": [
    "Q3: partition time $t\\in [0, 10]$ into a regular grid with 0.2 spacing between each grid point. i.e. make an array `t` that looks like `[0.0, 0.2, 0.4, ..., 9.8, 10.0]` (not manually!)"
   ]
  },
  {
   "cell_type": "code",
   "execution_count": 14,
   "metadata": {},
   "outputs": [
    {
     "ename": "TypeError",
     "evalue": "TypeError: in keyword argument length, expected Union{Nothing, Integer}, got Float64",
     "output_type": "error",
     "traceback": [
      "TypeError: in keyword argument length, expected Union{Nothing, Integer}, got Float64",
      "",
      "Stacktrace:",
      " [1] (::Base.var\"#kw##range\")(::NamedTuple{(:stop, :length),Tuple{Float64,Float64}}, ::typeof(range), ::Float64) at .\\none:0",
      " [2] #range#43(::Base.Iterators.Pairs{Symbol,Float64,Tuple{Symbol},NamedTuple{(:length,),Tuple{Float64}}}, ::typeof(range), ::Float64, ::Float64) at C:\\Users\\New\\.julia\\packages\\Compat\\fSUv4\\src\\deprecated.jl:72",
      " [3] (::Base.var\"#kw##range\")(::NamedTuple{(:length,),Tuple{Float64}}, ::typeof(range), ::Float64, ::Float64) at .\\none:0",
      " [4] top-level scope at In[14]:1"
     ]
    }
   ],
   "source": [
    "t = collect(range(0.0,10.0,length=0.2))"
   ]
  },
  {
   "cell_type": "code",
   "execution_count": 15,
   "metadata": {},
   "outputs": [
    {
     "data": {
      "text/plain": [
       "51-element Array{Float64,1}:\n",
       "  0.0\n",
       "  0.2\n",
       "  0.4\n",
       "  0.6\n",
       "  0.8\n",
       "  1.0\n",
       "  1.2\n",
       "  1.4\n",
       "  1.6\n",
       "  1.8\n",
       "  2.0\n",
       "  2.2\n",
       "  2.4\n",
       "  ⋮  \n",
       "  7.8\n",
       "  8.0\n",
       "  8.2\n",
       "  8.4\n",
       "  8.6\n",
       "  8.8\n",
       "  9.0\n",
       "  9.2\n",
       "  9.4\n",
       "  9.6\n",
       "  9.8\n",
       " 10.0"
      ]
     },
     "execution_count": 15,
     "metadata": {},
     "output_type": "execute_result"
    }
   ],
   "source": [
    "t = collect(0:0.2:10)"
   ]
  },
  {
   "cell_type": "markdown",
   "metadata": {},
   "source": [
    "Q4: construct another array `y` with 51 entries whose entry $i$ is $\\cos(t_i)$ with $t_i=0.2(i-1)$. i.e. construct an array `[cos(0.0), cos(0.2), ..., cos(9.8), cos(10)]`. do this in two different ways, with one of the ways using your array `t` from Q3."
   ]
  },
  {
   "cell_type": "code",
   "execution_count": 27,
   "metadata": {},
   "outputs": [
    {
     "data": {
      "text/plain": [
       "51-element Array{Float64,1}:\n",
       "  1.0                 \n",
       "  0.9800665778412416  \n",
       "  0.9210609940028851  \n",
       "  0.8253356149096782  \n",
       "  0.6967067093471654  \n",
       "  0.5403023058681398  \n",
       "  0.3623577544766734  \n",
       "  0.16996714290024081 \n",
       " -0.029199522301288815\n",
       " -0.2272020946930871  \n",
       " -0.4161468365471424  \n",
       " -0.5885011172553458  \n",
       " -0.7373937155412458  \n",
       "  ⋮                   \n",
       "  0.05395542056264886 \n",
       " -0.14550003380861354 \n",
       " -0.3391548609838362  \n",
       " -0.5192886541166856  \n",
       " -0.6787200473200125  \n",
       " -0.811093014061656   \n",
       " -0.9111302618846769  \n",
       " -0.974843621404164   \n",
       " -0.9996930420352065  \n",
       " -0.9846878557941267  \n",
       " -0.9304262721047533  \n",
       " -0.8390715290764524  "
      ]
     },
     "execution_count": 27,
     "metadata": {},
     "output_type": "execute_result"
    }
   ],
   "source": [
    "#x = zeros(length(51))\n",
    "for i= 1:51\n",
    "    t[i]= 0.2 *(i-1)\n",
    "end \n",
    "t\n",
    "y=cos.(t)"
   ]
  },
  {
   "cell_type": "markdown",
   "metadata": {},
   "source": [
    "# y= cos.(t)"
   ]
  },
  {
   "cell_type": "markdown",
   "metadata": {},
   "source": [
    "## plotting\n",
    "\n",
    "### line plots\n",
    "\n",
    "plot the function $y(x)=x^2$"
   ]
  },
  {
   "cell_type": "code",
   "execution_count": 84,
   "metadata": {},
   "outputs": [
    {
     "data": {
      "image/png": "[encoded data removed]",
      "text/plain": [
       "Figure(PyObject <Figure size 640x480 with 1 Axes>)"
      ]
     },
     "metadata": {},
     "output_type": "display_data"
    },
    {
     "name": "stdout",
     "output_type": "stream",
     "text": [
      "x = [1.0, 2.0, 3.0, 4.0, 5.0]\n",
      "y = [1.0, 4.0, 9.0, 16.0, 25.0]\n"
     ]
    },
    {
     "data": {
      "text/plain": [
       "PyObject Text(0.5, 1, 'y(x) = x ^ 2')"
      ]
     },
     "execution_count": 84,
     "metadata": {},
     "output_type": "execute_result"
    }
   ],
   "source": [
    "x = [1.0, 2.0, 3.0, 4.0, 5.0]\n",
    "y = x .^ 2\n",
    "@show x\n",
    "@show y\n",
    "\n",
    "figure()\n",
    "plot(x, y) # (x[i], y[i]) is a point on this line\n",
    "xlabel(\"x\")\n",
    "ylabel(\"y(x)\")\n",
    "title(\"y(x) = x ^ 2\")"
   ]
  },
  {
   "cell_type": "markdown",
   "metadata": {},
   "source": [
    "### customizing\n",
    "\n",
    "well, first, the plot needs higher resolution"
   ]
  },
  {
   "cell_type": "code",
   "execution_count": 85,
   "metadata": {},
   "outputs": [
    {
     "data": {
      "image/png": "[encoded data removed]",
      "text/plain": [
       "Figure(PyObject <Figure size 640x480 with 1 Axes>)"
      ]
     },
     "metadata": {},
     "output_type": "display_data"
    },
    {
     "data": {
      "text/plain": [
       "1-element Array{PyCall.PyObject,1}:\n",
       " PyObject <matplotlib.lines.Line2D object at 0x7ff28e6a4e80>"
      ]
     },
     "execution_count": 85,
     "metadata": {},
     "output_type": "execute_result"
    }
   ],
   "source": [
    "x = range(1.0, 5.0, length=100)\n",
    "y = x .^ 2\n",
    "\n",
    "figure()\n",
    "plot(x, y, color=\"green\", lw=4, linestyle=\"--\") # color, line width, line style"
   ]
  },
  {
   "cell_type": "markdown",
   "metadata": {},
   "source": [
    "## <font color='red'>exercises</font>\n",
    "\n",
    "plot the function $f(t)=K(1-e^{-t/\\tau})$ for $t\\in[0, 10]$ for $\\tau=3$ and $K=4$. "
   ]
  },
  {
   "cell_type": "code",
   "execution_count": null,
   "metadata": {},
   "outputs": [],
   "source": []
  },
  {
   "cell_type": "markdown",
   "metadata": {},
   "source": [
    "## multiple lines per panel\n",
    "\n",
    "compare $f(\\theta)=\\sin(\\theta)$ with $g(\\theta)=\\cos(\\theta)$ in the range $[0, 2\\pi]$.\n",
    "\n",
    "$\\pi$ in Julia is `\\pi` then hit tab."
   ]
  },
  {
   "cell_type": "code",
   "execution_count": 87,
   "metadata": {},
   "outputs": [
    {
     "data": {
      "text/plain": [
       "π = 3.1415926535897..."
      ]
     },
     "execution_count": 87,
     "metadata": {},
     "output_type": "execute_result"
    }
   ],
   "source": [
    "π"
   ]
  },
  {
   "cell_type": "code",
   "execution_count": 88,
   "metadata": {},
   "outputs": [
    {
     "data": {
      "image/png": "[encoded data removed]",
      "text/plain": [
       "Figure(PyObject <Figure size 640x480 with 1 Axes>)"
      ]
     },
     "metadata": {},
     "output_type": "display_data"
    },
    {
     "data": {
      "text/plain": [
       "PyObject <matplotlib.legend.Legend object at 0x7ff28e5806d8>"
      ]
     },
     "execution_count": 88,
     "metadata": {},
     "output_type": "execute_result"
    }
   ],
   "source": [
    "θ = range(0, 2*π, length=100)\n",
    "\n",
    "figure()\n",
    "plot(θ, sin.(θ), label=\"f(θ)\")\n",
    "plot(θ, cos.(θ), label=\"g(θ)\")\n",
    "xlabel(\"θ\")\n",
    "ylabel(\"f(θ), g(θ)\")\n",
    "legend() # draw legend!"
   ]
  },
  {
   "cell_type": "markdown",
   "metadata": {},
   "source": [
    "## <font color='red'>exercise for ambitious Beavers</font>\n",
    "\n",
    "use a `for` loop to plot four curves $f_\\omega(t) = sin(\\omega t)$ from $[0, 2\\pi]$ for three different values of $\\omega$: 1.0, 2.0, 3.0.\n",
    "\n",
    "an extra ambitious task is to put a legend with the value of $\\omega$. hint: `\"ω = $ω\"` will format the variable `ω` (a floating point number) into a string."
   ]
  },
  {
   "cell_type": "code",
   "execution_count": null,
   "metadata": {},
   "outputs": [],
   "source": []
  }
 ],
 "metadata": {
  "@webio": {
   "lastCommId": null,
   "lastKernelId": null
  },
  "kernelspec": {
   "display_name": "Julia 1.3.1",
   "language": "julia",
   "name": "julia-1.3"
  },
  "language_info": {
   "file_extension": ".jl",
   "mimetype": "application/julia",
   "name": "julia",
   "version": "1.3.1"
  }
 },
 "nbformat": 4,
 "nbformat_minor": 2
}
