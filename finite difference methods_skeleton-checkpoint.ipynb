{
 "cells": [
  {
   "cell_type": "code",
   "execution_count": 1,
   "metadata": {},
   "outputs": [],
   "source": [
    "using PyPlot\n",
    "\n",
    "# (optional) change to a cool plot style. \n",
    "# see here for options: https://matplotlib.org/3.1.1/gallery/style_sheets/style_sheets_reference.html\n",
    "PyPlot.matplotlib.style.use(\"bmh\")"
   ]
  },
  {
   "cell_type": "markdown",
   "metadata": {},
   "source": [
    "# finite difference methods\n",
    "\n",
    "the following dynamic model governs the liquid level $h(t)$ in a cylindrical tank, where $R$ is the resistance of the exit line, $A$ is the cross-sectional area of the tank, $q_i(t)$ is the volumetric flow rate of water into the tank, and $h_0$ is the initial liquid level.\n",
    "\n",
    "\\begin{align}\n",
    "& A\\frac{dh}{dt} = q_i - h / R \\\\\n",
    "& h(t=0)=h_0\n",
    "\\end{align}\n",
    "\n",
    "<img src=\"https://raw.githubusercontent.com/SimonEnsemble/control_theory_demos/master/studios/tank_diagram.png\" width=450>\n",
    "\n",
    "the area $A$ and resistance of the exit line $R$ are provided in the code cell below."
   ]
  },
  {
   "cell_type": "code",
   "execution_count": 2,
   "metadata": {},
   "outputs": [
    {
     "data": {
      "text/plain": [
       "0.5"
      ]
     },
     "execution_count": 2,
     "metadata": {},
     "output_type": "execute_result"
    }
   ],
   "source": [
    "A = 2.0 # m²\n",
    "R = 0.5 # min / m². intuitive that we see units of area here: friction of fluid with the *walls* of the pipe!"
   ]
  },
  {
   "cell_type": "markdown",
   "metadata": {},
   "source": [
    "consider a situation where the process was operating at steady state before $t=0$, with $q_i=5$ m$^3$/min.\n",
    "\n",
    "but, at $t=0^+$, the inlet flow is suddenly shut off, indefinitely. \n",
    "\n",
    "then, the tank will autonomously empty of liquid. let's write our own code to numerically approximate the solution to the ODE in this scenario, via the forward Euler method.\n",
    "\n",
    "(1) determine the initial condition $h_0$ in this scenario. declare it as a variable `h₀`."
   ]
  },
  {
   "cell_type": "code",
   "execution_count": 3,
   "metadata": {},
   "outputs": [
    {
     "data": {
      "text/plain": [
       "2.5"
      ]
     },
     "execution_count": 3,
     "metadata": {},
     "output_type": "execute_result"
    }
   ],
   "source": [
    "# at t=t_0 , h=h_0. Steady state, dh/dt=0. solve for h at t=0\n",
    "q_0= 5 # [m3/min] #flow rate at steady state\n",
    "h_0= q_0 *R"
   ]
  },
  {
   "cell_type": "markdown",
   "metadata": {},
   "source": [
    "(2) in Julia, write a function `f(h, t)`, with the view that:\n",
    "\n",
    "$\\dfrac{dh}{dt} = f(h, t)$.\n",
    "\n",
    "remember, we are simulating the process for $t\\geq 0$, so there is no flow of liquid *into* the tank."
   ]
  },
  {
   "cell_type": "code",
   "execution_count": 4,
   "metadata": {},
   "outputs": [
    {
     "data": {
      "text/plain": [
       "f (generic function with 1 method)"
      ]
     },
     "execution_count": 4,
     "metadata": {},
     "output_type": "execute_result"
    }
   ],
   "source": [
    "q_i=0 \n",
    "f(h,t) = (q_i -(h/R))/A"
   ]
  },
  {
   "cell_type": "markdown",
   "metadata": {},
   "source": [
    "(3) to set up our finite difference approximation, define the time step `Δt` to be 0.1 min.\n",
    "\n",
    "we wish to simulate the process in the time interval $t \\in [0, 5]$ min. define a variable `tf` to be the final time, with the value of 5.\n",
    "\n",
    "with this in mind, also define `N`, the number of time steps we should take. write `N` in terms of `Δt` and `tf` so that we can change the time step later and automatically update `N`. make sure it is an integer by casting it as an `Int`, e.g. `Int(5.0)` will give `5`."
   ]
  },
  {
   "cell_type": "code",
   "execution_count": 5,
   "metadata": {},
   "outputs": [
    {
     "data": {
      "text/plain": [
       "50"
      ]
     },
     "execution_count": 5,
     "metadata": {},
     "output_type": "execute_result"
    }
   ],
   "source": [
    "Δt= 0.1\n",
    "tf= 5\n",
    "N= Int(tf/Δt)"
   ]
  },
  {
   "cell_type": "markdown",
   "metadata": {},
   "source": [
    "(4) we will store the times $t_i$'s in an array `t`. define this array, with element $i$ as $t_i= \\Delta t (i-1)$ for $i \\in {1, ..., N+1}$. we go up to $N+1$ because the first element of `t` should be zero. the last entry of the `t` array should be 5.0."
   ]
  },
  {
   "cell_type": "code",
   "execution_count": 8,
   "metadata": {},
   "outputs": [],
   "source": [
    "n=N+1\n",
    "t=zeros(n)\n",
    "for i= 1:n\n",
    "    t[i]=Δt*(i-1)\n",
    "end\n"
   ]
  },
  {
   "cell_type": "markdown",
   "metadata": {},
   "source": [
    "(5) we will store the approximations to the solution, $h_i \\approx h(t_i)$'s in an array `h`. pre-allocate this array with zeros, of the appropriate size to correspond to `t`, so $N+1$ elements. we'll overwrite these zeros later.\n",
    "\n",
    "in the first element of `h`, overwrite the zero with the initial condition, `h₀`."
   ]
  },
  {
   "cell_type": "code",
   "execution_count": 13,
   "metadata": {},
   "outputs": [
    {
     "data": {
      "text/plain": [
       "2.5"
      ]
     },
     "execution_count": 13,
     "metadata": {},
     "output_type": "execute_result"
    }
   ],
   "source": [
    "h=zeros(n)\n",
    "for i=1: n\n",
    "\n",
    "end\n",
    "h\n",
    "h[1]= h_0"
   ]
  },
  {
   "cell_type": "markdown",
   "metadata": {},
   "source": [
    "(6) now implement the forward Euler method to approximate the solution to this ODE. March ahead in time for `N` steps, via a `for` loop. you should use all of the following that you defined earlier:\n",
    "* the `h` array\n",
    "* the `t` array\n",
    "* `Δt`\n",
    "* `f(h, t)`"
   ]
  },
  {
   "cell_type": "code",
   "execution_count": 18,
   "metadata": {},
   "outputs": [
    {
     "data": {
      "text/plain": [
       "51-element Array{Float64,1}:\n",
       " 2.5                 \n",
       " 2.25                \n",
       " 2.025               \n",
       " 1.8224999999999998  \n",
       " 1.6402499999999998  \n",
       " 1.476225            \n",
       " 1.3286025           \n",
       " 1.19574225          \n",
       " 1.0761680249999999  \n",
       " 0.9685512224999999  \n",
       " 0.8716961002499999  \n",
       " 0.7845264902249999  \n",
       " 0.7060738412024998  \n",
       " ⋮                   \n",
       " 0.04105800817065161 \n",
       " 0.03695220735358645 \n",
       " 0.033256986618227805\n",
       " 0.029931287956405025\n",
       " 0.026938159160764523\n",
       " 0.02424434324468807 \n",
       " 0.02181990892021926 \n",
       " 0.019637918028197334\n",
       " 0.0176741262253776  \n",
       " 0.01590671360283984 \n",
       " 0.014316042242555855\n",
       " 0.012884438018300269"
      ]
     },
     "execution_count": 18,
     "metadata": {},
     "output_type": "execute_result"
    }
   ],
   "source": [
    "for i=1:N\n",
    "h[i+1]=h[i] + Δt* f(h[i],t[i])\n",
    "    end\n",
    "h\n"
   ]
  },
  {
   "cell_type": "markdown",
   "metadata": {},
   "source": [
    "(7) plot your numerical solution $h(t)$, via plotting `h` vs `t`."
   ]
  },
  {
   "cell_type": "code",
   "execution_count": null,
   "metadata": {},
   "outputs": [],
   "source": []
  },
  {
   "cell_type": "markdown",
   "metadata": {},
   "source": [
    "(8) the exact solution is $h(t)= h_0 e^{- t / (AR)}$. now plot your approximate solution vs. the exact solution to see if you implemented the forward Euler method correctly. use a legend to indicate which curve is exact and which is the approximate solution."
   ]
  },
  {
   "cell_type": "code",
   "execution_count": null,
   "metadata": {},
   "outputs": [],
   "source": []
  },
  {
   "cell_type": "markdown",
   "metadata": {},
   "source": [
    "(9) was your time step small enough? make the time step smaller, say 0.01 min, and re-run your notebook to see what happens."
   ]
  },
  {
   "cell_type": "markdown",
   "metadata": {},
   "source": [
    "# practice tank problem\n",
    "\n",
    "Liquid continuously flows into a truncated square pyramidal tank at a rate $q_i=q_i(t)$ [m$^3$/s]. Hydrostatic pressure drives flow out of the tank through a narrow pipe at its base; via Bernoulli’s equation, the outlet flow rate $q \\sim c \\sqrt{h}$, where $h=h(t)$ [m] is the liquid level in the tank.\n",
    " \n",
    "<img src=\"https://simonensemble.github.io/images/tank_problem/tank_1.png\" width=500>\n",
    "\n",
    "The view of the tank from all four sides is equivalent and is below. Its height is $H$ [m]. The top and bottom base are of length $L_t$ and $L_b$ [m], respectively. All horizontal slices through the tank reveal a square cross-section. This is a right pyramid, meaning that its apex (if it weren’t truncated) is directly above the centroid of its base.\n",
    "\n",
    "<img src=\"https://simonensemble.github.io/images/tank_problem/tank_3.png\" width=300>\n",
    "\n",
    "Derive a dynamic model for the liquid level $h=h(t)$ given any input $q_i(t)$. Hint: find two triangles, four similar triangles."
   ]
  }
 ],
 "metadata": {
  "kernelspec": {
   "display_name": "Julia 1.3.1",
   "language": "julia",
   "name": "julia-1.3"
  },
  "language_info": {
   "file_extension": ".jl",
   "mimetype": "application/julia",
   "name": "julia",
   "version": "1.3.1"
  }
 },
 "nbformat": 4,
 "nbformat_minor": 2
}
