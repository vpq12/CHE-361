{
 "cells": [
  {
   "cell_type": "markdown",
   "metadata": {},
   "source": [
    "# numerically solving differential equations\n",
    "\n",
    "**learning objectives:**\n",
    "* use `DifferentialEquations.jl` (documentation [here](https://docs.juliadiffeq.org/stable/index.html)) to compute the numerical solution to differential equations. differential equations often govern the time-evolution of a variable characterizing a real-life process in chemical engineering. differential equations usually arise from mass or energy balances in chemical engineering.\n",
    "* equip yourself with a conceptual understanding of process dynamics, in the context of our simple saline production facility."
   ]
  },
  {
   "cell_type": "code",
   "execution_count": 10,
   "metadata": {},
   "outputs": [],
   "source": [
    "using DifferentialEquations, PyPlot\n",
    "\n",
    "# (optional) change to a cool plot style. \n",
    "# see here for options: https://matplotlib.org/3.1.1/gallery/style_sheets/style_sheets_reference.html\n",
    "PyPlot.matplotlib.style.use(\"Solarize_Light2\")"
   ]
  },
  {
   "cell_type": "markdown",
   "metadata": {},
   "source": [
    "## saline solution production\n",
    "the following differential equation is a dynamic model for a process for salt water production (see lecture notes):\n",
    "\n",
    "\\begin{equation}\n",
    "    V \\frac{dc}{dt} = w - qc\n",
    "\\end{equation}\n",
    "\n",
    "<img src=\"https://raw.githubusercontent.com/SimonEnsemble/control_theory_demos/master/studios/salt_mixer.png\" width=400>\n",
    "\n",
    "* $V$ [L]: volume of liquid in the tank (constant as a consequence of the overflow line)\n",
    "* $c$ [g/L]: concentration of salt in the solution\n",
    "* $q$ [L/s]: incoming volumetric flow rate of pure water\n",
    "* $w$ [g/s]: incoming gravimetric flow rate of solid salt granules\n",
    "\n",
    "we will simulate the dynamics of this process-- i.e., we will numerically solve the ODE to arrive at the salt concentration as a function of time, $c(t)$, under two different scenarios below.\n",
    "\n",
    "in each scenario, the volume of liquid hold-up in the tank is constant at $V=10$ L, and the incoming flow rate of water is $q=0.1$ L/s (constant, not a function of time). thus, go ahead and define the variables `V` and `q` in the cell below. use an inline comment `#` to reiterate what the variable represents and indicate its units."
   ]
  },
  {
   "cell_type": "code",
   "execution_count": 11,
   "metadata": {},
   "outputs": [
    {
     "data": {
      "text/plain": [
       "0.1"
      ]
     },
     "execution_count": 11,
     "metadata": {},
     "output_type": "execute_result"
    }
   ],
   "source": [
    "V= 10 #tank volume is constant [L]\n",
    "q= 0.1 #incoming flow rate [l/s]"
   ]
  },
  {
   "cell_type": "markdown",
   "metadata": {},
   "source": [
    "### (1) process start-up\n",
    "\n",
    "First, we simulate process-start up. Because of a prior rinse, the tank is initially full with pure water devoid of salt. Then, suddenly, at time $t=0$, the constant-speed conveyor belt is turned on and $w$ [g/s] is maintained at a constant value.\n",
    "\n",
    "(a) the customer demands a salt concentration of $c=0.1$ g/L. what should the incoming salt flow rate, $w$ [g/s], be specified as, then? assume that we can only program the conveyer belt to maintain a *constant* speed that results in this (constant) $w$."
   ]
  },
  {
   "cell_type": "code",
   "execution_count": 12,
   "metadata": {},
   "outputs": [
    {
     "data": {
      "text/plain": [
       "0.01"
      ]
     },
     "execution_count": 12,
     "metadata": {},
     "output_type": "execute_result"
    }
   ],
   "source": [
    "c_0 = 0.0  #initial concentration\n",
    "w = 0.01"
   ]
  },
  {
   "cell_type": "markdown",
   "metadata": {},
   "source": [
    "(b) sketch out on a piece of paper what you suspect $c(t)$ will look like in this scenario.\n",
    "\n",
    "(c) use `DifferentialEquations.jl` to simulate $c(t)$, the concentration of salt in the water coming out of the process, for $t\\in[0, 10]$ minutes. plot $c(t)$ for the same time span, from start-up ($t=0$) to $t=10$ minutes. also plot a black, vertical, dashed line at $c=0.1$ to confirm that the limiting value of $c(t)$ corresponds to the concentration that the customer desires (hint: try `axhline(y=0.1, color=\"black\", linestyle=\"--\")` for a horizontal line).\n",
    "\n",
    "(d) did the concentration profile match your expectations? why or why not?"
   ]
  },
  {
   "cell_type": "code",
   "execution_count": 13,
   "metadata": {},
   "outputs": [
    {
     "data": {
      "text/plain": [
       "retcode: Success\n",
       "Interpolation: Automatic order switching interpolation\n",
       "t: 18-element Array{Float64,1}:\n",
       "   0.0                  \n",
       "   9.999999999999999e-5 \n",
       "   0.0010999999999999998\n",
       "   0.011099999999999997 \n",
       "   0.11109999999999996  \n",
       "   1.1110999999999995   \n",
       "   8.20942563225399     \n",
       "  23.81553611204373     \n",
       "  46.41300124172324     \n",
       "  75.40600881687728     \n",
       " 112.48843365544064     \n",
       " 157.76073052031586     \n",
       " 212.42013694479812     \n",
       " 277.1712952701207      \n",
       " 353.51788334309583     \n",
       " 443.223501553339       \n",
       " 549.115800326084       \n",
       " 600.0                  \n",
       "u: 18-element Array{Float64,1}:\n",
       " 0.0                   \n",
       " 9.999995000001668e-8  \n",
       " 1.0999939500221833e-6 \n",
       " 1.1099383972793214e-5 \n",
       " 0.00011103830679916377\n",
       " 0.0011049500822694904 \n",
       " 0.007881487291101196  \n",
       " 0.021191975446057377  \n",
       " 0.03713181773798776   \n",
       " 0.052954736473617134  \n",
       " 0.06753098104664206   \n",
       " 0.07935310096471905   \n",
       " 0.08804705435050394   \n",
       " 0.09374432537984889   \n",
       " 0.09708432829321322   \n",
       " 0.09881077283877762   \n",
       " 0.09958715811339879   \n",
       " 0.09975180203538889   "
      ]
     },
     "execution_count": 13,
     "metadata": {},
     "output_type": "execute_result"
    }
   ],
   "source": [
    "f(c,p,t)= (w-q*c)/V \n",
    "time_span = (0.0,600.0)\n",
    "prob= ODEProblem(f, c_0, time_span)\n",
    "c_of_t = solve(prob)\n"
   ]
  },
  {
   "cell_type": "code",
   "execution_count": 22,
   "metadata": {},
   "outputs": [
    {
     "data": {
      "image/png": "[encoded data removed]",
      "text/plain": [
       "Figure(PyObject <Figure size 640x480 with 1 Axes>)"
      ]
     },
     "metadata": {},
     "output_type": "display_data"
    },
    {
     "data": {
      "text/plain": [
       "1-element Array{PyCall.PyObject,1}:\n",
       " PyObject <matplotlib.lines.Line2D object at 0x00000000022C75F8>"
      ]
     },
     "execution_count": 22,
     "metadata": {},
     "output_type": "execute_result"
    }
   ],
   "source": [
    "t= collect(0:0.1:600)\n",
    "c= c_of_t.(t)\n",
    "figure()\n",
    "xlabel(\"time, t[hr]\")\n",
    "ylabel(\"concentration, c(t) [mol/L]\")\n",
    "plot(t,c)"
   ]
  },
  {
   "cell_type": "markdown",
   "metadata": {},
   "source": [
    "(e)  [**ambitious Beavers**, an after studio question]: although the customer seeks $c=0.1$ g/L, the customer will accept (buy) saline solution that is in the range $c\\in[0.095, 0.105]$.\n",
    "* how long does it take for the process to output saline solution that is viable to sell?\n",
    "* what volume of solution must we throw out, then, from the start-up phase where the concentration was not up to standards?"
   ]
  },
  {
   "cell_type": "code",
   "execution_count": 14,
   "metadata": {},
   "outputs": [],
   "source": [
    "# do this after you've finished the other questions, time-permitting, or after the studio,\n",
    "#    if you're particularly invested in learning to code"
   ]
  },
  {
   "cell_type": "markdown",
   "metadata": {},
   "source": [
    "### (2) a disturbance\n",
    "\n",
    "the process is initially operating at steady state, with $c=0.1$ g/L, and maintains steady state conditions until $t=25$ s. At this point in time, the conveyor belt loses power and shuts off. Only at $t=100$ s does the engineer on staff address the problem and switch the conveyor belt back on to its normal speed. \n",
    "\n",
    "(a) $w=w(t)$ is a piecewise function here, also known as a rectangular pulse. sketch out what $w(t)$ looks like and write it mathematically as a piecewise function.\n",
    "\n",
    "(b) code-up $w(t)$ as a `function` in Julia, `function w_pulse(t)`. you will need to use an `if` statement. the below example should teach you how to write an `if` statement in Julia.\n",
    "\n",
    "```julia\n",
    "x = 2\n",
    "\n",
    "if x > 5\n",
    "    println(\"x is greater than 5!\")\n",
    "else\n",
    "    println(\"x is not greater than 5.\")\n",
    "end\n",
    "```\n",
    "\n",
    "add a cell and see what this code outputs. change `x` to be `10` and then see what happens.\n",
    "\n",
    "you might also want to use `||` for \"or\". here is an example:\n",
    "\n",
    "```julia\n",
    "(x > 5) || (x < 3) # true\n",
    "```"
   ]
  },
  {
   "cell_type": "code",
   "execution_count": 26,
   "metadata": {},
   "outputs": [
    {
     "data": {
      "text/plain": [
       "w_pulse (generic function with 1 method)"
      ]
     },
     "execution_count": 26,
     "metadata": {},
     "output_type": "execute_result"
    }
   ],
   "source": [
    "function w_pulse(t)\n",
    "if (t <= 25.0) || (t>100.0)\n",
    "    w_pulse = 0.01\n",
    "        else 25.0<t<=100.0\n",
    "    w_pulse =0.0\n",
    "end\n",
    "end"
   ]
  },
  {
   "cell_type": "markdown",
   "metadata": {},
   "source": [
    "(c) to be sure you coded up `w_pulse(t)` correctly, plot it to make sure it conforms to your expectations. it should look like a rectangular pulse!"
   ]
  },
  {
   "cell_type": "code",
   "execution_count": 16,
   "metadata": {},
   "outputs": [],
   "source": [
    "# it will look more like a pulse if you make the Δt in the time array smaller... I'd use 500 values."
   ]
  },
  {
   "cell_type": "markdown",
   "metadata": {},
   "source": [
    "(d) sketch out on pencil and paper what you anticipate the solution $c(t)$ to look like with this rectangular pulse input.\n",
    "\n",
    "(e) use `DifferentialEquations.jl` to simulate $c(t)$, the concentration of salt in the water coming out of the process, for $t\\in[0, 10]$ minutes. plot $c(t)$ for the same time span, from start-up to 10 minutes. also plot a black, vertical, dashed line at $c=0.1$ g/L as before.\n",
    "\n",
    "**hint**: when defining the right-hand-side of the ODE for `DifferentialEquations.jl`, you will need to use the time argument, `t`, in `f(c, p, t)` and pass it into your `w_pulse(t)`.\n",
    "\n",
    "**hint**: you may see an unphysical blip in the solution, owing to a discontinuity in the input. to alleviate this numerical artifact, pass `d_discontinuities=[100.0, 25.0]` to `ODEProblem` to make sure it handles the discontinuities in the input appropriately."
   ]
  },
  {
   "cell_type": "code",
   "execution_count": 28,
   "metadata": {},
   "outputs": [
    {
     "data": {
      "text/plain": [
       "retcode: Success\n",
       "Interpolation: Automatic order switching interpolation\n",
       "t: 21-element Array{Float64,1}:\n",
       "   0.0                  \n",
       "   9.999999999999999e-5 \n",
       "   0.0010999999999999998\n",
       "   0.011099999999999997 \n",
       "   0.11109999999999996  \n",
       "   1.1110999999999995   \n",
       "   8.20942563225399     \n",
       "  23.81553611204373     \n",
       "  46.41300124172324     \n",
       "  56.71208765037572     \n",
       "  91.43871814497116     \n",
       "  99.73841863169142     \n",
       " 129.51280040937388     \n",
       " 144.5833262922704      \n",
       " 193.22824831461796     \n",
       " 231.92698188942654     \n",
       " 290.45138764263066     \n",
       " 351.41567558461924     \n",
       " 428.3030359957936      \n",
       " 514.8077796103038      \n",
       " 600.0                  \n",
       "u: 21-element Array{Float64,1}:\n",
       " 0.0                   \n",
       " 9.999995000001668e-8  \n",
       " 1.0999939500221833e-6 \n",
       " 1.1099383972793214e-5 \n",
       " 0.00011103830679916377\n",
       " 0.0011049500822694904 \n",
       " 0.007881487291101196  \n",
       " 0.021191975446057377  \n",
       " 0.018643836641151854  \n",
       " 0.016819261583195546  \n",
       " 0.011884781533045525  \n",
       " 0.010938205079958333  \n",
       " 0.03174218858734669   \n",
       " 0.04129137658463176   \n",
       " 0.06390550732409407   \n",
       " 0.07548822689763963   \n",
       " 0.08634753069584324   \n",
       " 0.09257916021626929   \n",
       " 0.09655990217578418   \n",
       " 0.09855132470507247   \n",
       " 0.09938189509803362   "
      ]
     },
     "execution_count": 28,
     "metadata": {},
     "output_type": "execute_result"
    }
   ],
   "source": [
    "f(c,p,t)= (w_pulse(t)-q*c)/V \n",
    "time_span = (0.0,600.0)\n",
    "prob= ODEProblem(f, c_0, time_span)\n",
    "c_of_t = solve(prob)"
   ]
  },
  {
   "cell_type": "markdown",
   "metadata": {},
   "source": [
    "(f) does the solution $c(t)$ conform to your expectations?\n",
    "\n",
    "(g) [**VERY ambitious Beavers**, an after studio question]: although the customer seeks $c=0.1$ g/L, the customer will accept (buy) saline solution that is in the range $c\\in[0.095, 0.105]$. for how long are we producing salt water that cannot be sold to the customer?"
   ]
  },
  {
   "cell_type": "code",
   "execution_count": 17,
   "metadata": {},
   "outputs": [],
   "source": [
    "# do this after you've finished the other questions, time-permitting, or after the studio,\n",
    "#    if you're particularly invested in learning to code"
   ]
  }
 ],
 "metadata": {
  "kernelspec": {
   "display_name": "Julia 1.3.1",
   "language": "julia",
   "name": "julia-1.3"
  },
  "language_info": {
   "file_extension": ".jl",
   "mimetype": "application/julia",
   "name": "julia",
   "version": "1.3.1"
  }
 },
 "nbformat": 4,
 "nbformat_minor": 2
}
